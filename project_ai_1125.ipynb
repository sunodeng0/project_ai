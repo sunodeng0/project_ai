{
  "nbformat": 4,
  "nbformat_minor": 0,
  "metadata": {
    "colab": {
      "provenance": [],
      "collapsed_sections": [
        "JM1mPZuO764e"
      ],
      "machine_shape": "hm",
      "include_colab_link": true
    },
    "kernelspec": {
      "name": "python3",
      "display_name": "Python 3"
    },
    "language_info": {
      "name": "python"
    },
    "accelerator": "TPU",
    "gpuClass": "standard"
  },
  "cells": [
    {
      "cell_type": "markdown",
      "metadata": {
        "id": "view-in-github",
        "colab_type": "text"
      },
      "source": [
        "<a href=\"https://colab.research.google.com/github/sunodeng0/project_ai/blob/modeling/project_ai_1125.ipynb\" target=\"_parent\"><img src=\"https://colab.research.google.com/assets/colab-badge.svg\" alt=\"Open In Colab\"/></a>"
      ]
    },
    {
      "cell_type": "markdown",
      "source": [
        "# Data 압축 풀기"
      ],
      "metadata": {
        "id": "JM1mPZuO764e"
      }
    },
    {
      "cell_type": "code",
      "source": [
        "# 드라이브 마운트\n",
        "from google.colab import drive\n",
        "drive.mount('/content/drive')"
      ],
      "metadata": {
        "colab": {
          "base_uri": "https://localhost:8080/"
        },
        "id": "J0_IjEk479qi",
        "outputId": "7b39f7a0-1426-45fc-b1da-6068594a53df"
      },
      "execution_count": null,
      "outputs": [
        {
          "output_type": "stream",
          "name": "stdout",
          "text": [
            "Mounted at /content/drive\n"
          ]
        }
      ]
    },
    {
      "cell_type": "code",
      "source": [
        "from glob import glob"
      ],
      "metadata": {
        "id": "KTGPOURC-fJa"
      },
      "execution_count": null,
      "outputs": []
    },
    {
      "cell_type": "code",
      "source": [
        "# %cd /content/drive/MyDrive/project_ai\n",
        "\n",
        "# !unzip -qq \"/content/drive/MyDrive/project_ai/VL_damage_part.zip\""
      ],
      "metadata": {
        "id": "lWWi0SQ7HemE",
        "colab": {
          "base_uri": "https://localhost:8080/"
        },
        "outputId": "7a1b3696-60b5-42d5-bc41-ddd6595245cd"
      },
      "execution_count": null,
      "outputs": [
        {
          "output_type": "stream",
          "name": "stdout",
          "text": [
            "/content/drive/MyDrive/project_ai\n"
          ]
        }
      ]
    },
    {
      "cell_type": "code",
      "source": [
        "# %cd /content/drive/MyDrive/project_ai\n",
        "\n",
        "# !unzip -qq \"/content/drive/MyDrive/project_ai/VS_damage_part_jpg.zip\""
      ],
      "metadata": {
        "colab": {
          "base_uri": "https://localhost:8080/"
        },
        "id": "JgIadXNwHkCj",
        "outputId": "4b0cec0a-ebc7-46a1-b1be-b24887398663"
      },
      "execution_count": null,
      "outputs": [
        {
          "output_type": "stream",
          "name": "stdout",
          "text": [
            "/content/drive/MyDrive/project_ai\n",
            "replace damage_part_jpg/0000016_as-0031772.jpg? [y]es, [n]o, [A]ll, [N]one, [r]ename: "
          ]
        }
      ]
    },
    {
      "cell_type": "code",
      "source": [
        "filepaths1 = list(glob('/content/drive/MyDrive/project_ai/damage_part_json/*.json'))\n",
        "print(\"json 파일 갯수 : {}\".format(len(filepaths1)))"
      ],
      "metadata": {
        "colab": {
          "base_uri": "https://localhost:8080/"
        },
        "id": "fzW-hL8m8xEr",
        "outputId": "51f1fc09-2170-4424-e509-2e627ec33788"
      },
      "execution_count": null,
      "outputs": [
        {
          "output_type": "stream",
          "name": "stdout",
          "text": [
            "json 파일 갯수 : 17248\n"
          ]
        }
      ]
    },
    {
      "cell_type": "code",
      "source": [
        "filepaths2 = list(glob('/content/drive/MyDrive/project_ai/damage_part_jpg/*.jpg'))\n",
        "print(\"jpg 파일 갯수 : {}\".format(len(filepaths2)))"
      ],
      "metadata": {
        "colab": {
          "base_uri": "https://localhost:8080/"
        },
        "id": "F2kFqlfj9WC7",
        "outputId": "a7d95b9c-c230-4cfb-c2ec-39419ce97578"
      },
      "execution_count": null,
      "outputs": [
        {
          "output_type": "stream",
          "name": "stdout",
          "text": [
            "jpg 파일 갯수 : 17248\n"
          ]
        }
      ]
    },
    {
      "cell_type": "code",
      "source": [
        "filepaths3 = list(glob('/content/drive/MyDrive/project_ai/masked/*.jpg'))\n",
        "print(\"mask 파일 갯수 : {}\".format(len(filepaths3)))"
      ],
      "metadata": {
        "colab": {
          "base_uri": "https://localhost:8080/"
        },
        "id": "5qYao2oUxFf_",
        "outputId": "cd138548-1c53-402f-d51a-d0be7adc7c7e"
      },
      "execution_count": null,
      "outputs": [
        {
          "output_type": "stream",
          "name": "stdout",
          "text": [
            "mask 파일 갯수 : 16878\n"
          ]
        }
      ]
    },
    {
      "cell_type": "markdown",
      "source": [
        "# 마스크 이미지 만들기"
      ],
      "metadata": {
        "id": "M9utK6RCDt1s"
      }
    },
    {
      "cell_type": "code",
      "execution_count": 1,
      "metadata": {
        "id": "hYb3fcymCokt",
        "colab": {
          "base_uri": "https://localhost:8080/"
        },
        "outputId": "61b496cc-c033-4835-9c94-a15b36233dcf"
      },
      "outputs": [
        {
          "output_type": "stream",
          "name": "stdout",
          "text": [
            "Mounted at /content/drive\n"
          ]
        }
      ],
      "source": [
        "from google.colab import drive\n",
        "drive.mount('/content/drive')"
      ]
    },
    {
      "cell_type": "code",
      "source": [
        "import cv2\n",
        "import numpy as np\n",
        "from google.colab.patches import cv2_imshow\n",
        "import os\n",
        "import json\n",
        "from PIL import Image\n",
        "from tqdm import notebook, tqdm"
      ],
      "metadata": {
        "id": "lBZjfqQXDtGr"
      },
      "execution_count": 2,
      "outputs": []
    },
    {
      "cell_type": "code",
      "source": [
        "# 이미지 파일 리사이즈 하는 함수 (원본이미지파일 경로, mask이미지인가[폴더구분위함], 가로세로 크기)\n",
        "def resize_jpg(url, mask=False, w=500):\n",
        "  save_path = '/content/drive/MyDrive/project_ai/dataset/'  # 저장할 이미지 경로\n",
        "\n",
        "  # 저장할 경로 없으면 생성\n",
        "  if not os.path.exists(save_path):\n",
        "      os.mkdir(save_path)\n",
        "      \n",
        "  # 원본 이미지 경로의 모든 이미지 list 지정\n",
        "  if not mask:\n",
        "    data_list = os.listdir(url + \"damage_part_jpg/\")\n",
        "  else:\n",
        "    data_list = os.listdir(url + \"masked/\")\n",
        "  \n",
        "  print(len(data_list))\n",
        "  if not os.path.exists(save_path + \"x/\"):\n",
        "      os.mkdir(save_path + \"x/\")\n",
        "  if not os.path.exists(save_path + \"y/\"):\n",
        "      os.mkdir(save_path + \"y/\")\n",
        "\n",
        "  # 모든 이미지 resize 후 저장하기\n",
        "  for token in tqdm(data_list):\n",
        "      # 이미지 열기\n",
        "      if not mask:\n",
        "        im = Image.open(url + \"damage_part_jpg/\" + token).convert('RGB').resize((w, w))\n",
        "        im.save(save_path + \"x/\"+ token)\n",
        "      else:\n",
        "        im = Image.open(url + \"masked/\" + token).convert('L').resize((w, w))\n",
        "        im.save(save_path + \"y/\"+ token)\n",
        "\n",
        "\n",
        "# 파일 이름 리스트로 저장하는 함수\n",
        "def extract_file_name(url):\n",
        "  file_list = os.listdir(url)\n",
        "  file_name = []\n",
        "  for file in file_list:\n",
        "    file_name.append(file.split('.')[0])\n",
        "  return file_name"
      ],
      "metadata": {
        "id": "id_-Qs13SwRQ"
      },
      "execution_count": 3,
      "outputs": []
    },
    {
      "cell_type": "code",
      "source": [
        "# # 아예 세그멘테이션이 없는지 확인해볼게게\n",
        "# files = tqdm(extract_file_name(\"/content/drive/MyDrive/project_ai/damage_part_jpg/\"))\n",
        "\n",
        "# for file in files:\n",
        "#   with open('/content/drive/MyDrive/project_ai/damage_part_json/{}.json'.format(file), 'r') as f:\n",
        "#     json_data = json.load(f)\n",
        "#     mask_num = 0\n",
        "#     for j in range(len(json_data[\"annotations\"])):\n",
        "#       if json_data[\"annotations\"][j][\"damage\"] == None:\n",
        "#         mask_num += 1\n",
        "    \n",
        "#     if len(json_data[\"annotations\"]) == mask_num:\n",
        "#       print(\"아무것도 없음\")"
      ],
      "metadata": {
        "id": "bvaxc8auHgZF"
      },
      "execution_count": null,
      "outputs": []
    },
    {
      "cell_type": "code",
      "source": [
        "files = tqdm(extract_file_name(\"/content/drive/MyDrive/project_ai/damage_part_jpg\"))\n",
        "\n",
        "# 마스크 이미지를 저장할 경로 생성\n",
        "save_path = '/content/drive/MyDrive/project_ai/masked/'\n",
        "# save_path 경로가 없으면 폴더를 만듦\n",
        "if not os.path.exists(save_path):\n",
        "  os.mkdir(save_path)\n",
        "\n",
        "for file in files:\n",
        "  files.set_description(f\"Processing {file}\")\n",
        "  imgfile = \"/content/drive/MyDrive/project_ai/damage_part_jpg/{}.jpg\".format(file)\n",
        "  img = cv2.imread(imgfile)\n",
        "  with open('/content/drive/MyDrive/project_ai/damage_part_json/{}.json'.format(file), 'r') as f:\n",
        "    json_data = json.load(f)\n",
        "  \n",
        "  \n",
        "  # 데미지 파트가 없다면 mask_num += 1\n",
        "  mask_num = 0\n",
        "  for j in range(len(json_data[\"annotations\"])):\n",
        "    if json_data[\"annotations\"][j][\"damage\"] == None:\n",
        "      mask_num += 1\n",
        "\n",
        "\n",
        "  img[img!=256] = 0\n",
        "\n",
        "  ## mask_num을 뺀 segmentation 정보까지만 사용하여 마스크 이미지 만들기\n",
        "  # segmentation 없으면 바로 저장\n",
        "  if len(json_data[\"annotations\"]) == mask_num:\n",
        "    # 마스크된 이미지는 이미지파일이름+mask 파일로 save_path 경로에 저장\n",
        "    cv2.imwrite(\"/content/drive/MyDrive/project_ai/masked/{}_mask.jpg\".format(file), img)\n",
        "  \n",
        "  # 있으면 파손 부위 라벨링링\n",
        "  else:\n",
        "    for i in range(len(json_data[\"annotations\"])-mask_num):\n",
        "      area = np.array(json_data[\"annotations\"][i][\"segmentation\"][0][0])\n",
        "      filled = cv2.fillPoly(img, pts = [area], color = (255, 255, 255))\n",
        "      # 마스크된 이미지는 이미지파일이름+mask 파일로 save_path 경로에 저장\n",
        "      cv2.imwrite(\"/content/drive/MyDrive/project_ai/masked/{}_mask.jpg\".format(file), filled)"
      ],
      "metadata": {
        "id": "V_Gsybe18nwO",
        "colab": {
          "base_uri": "https://localhost:8080/",
          "height": 227
        },
        "outputId": "35892ef5-035f-485e-fa2d-d50c51ab3147"
      },
      "execution_count": 8,
      "outputs": [
        {
          "output_type": "stream",
          "name": "stderr",
          "text": [
            "Processing 0596425_as-0078749:   0%|          | 5/17248 [00:02<2:04:34,  2.31it/s]\n"
          ]
        },
        {
          "output_type": "error",
          "ename": "KeyboardInterrupt",
          "evalue": "ignored",
          "traceback": [
            "\u001b[0;31m---------------------------------------------------------------------------\u001b[0m",
            "\u001b[0;31mKeyboardInterrupt\u001b[0m                         Traceback (most recent call last)",
            "\u001b[0;32m<ipython-input-8-e329c63e643e>\u001b[0m in \u001b[0;36m<module>\u001b[0;34m\u001b[0m\n\u001b[1;32m     36\u001b[0m       \u001b[0mfilled\u001b[0m \u001b[0;34m=\u001b[0m \u001b[0mcv2\u001b[0m\u001b[0;34m.\u001b[0m\u001b[0mfillPoly\u001b[0m\u001b[0;34m(\u001b[0m\u001b[0mimg\u001b[0m\u001b[0;34m,\u001b[0m \u001b[0mpts\u001b[0m \u001b[0;34m=\u001b[0m \u001b[0;34m[\u001b[0m\u001b[0marea\u001b[0m\u001b[0;34m]\u001b[0m\u001b[0;34m,\u001b[0m \u001b[0mcolor\u001b[0m \u001b[0;34m=\u001b[0m \u001b[0;34m(\u001b[0m\u001b[0;36m255\u001b[0m\u001b[0;34m,\u001b[0m \u001b[0;36m255\u001b[0m\u001b[0;34m,\u001b[0m \u001b[0;36m255\u001b[0m\u001b[0;34m)\u001b[0m\u001b[0;34m)\u001b[0m\u001b[0;34m\u001b[0m\u001b[0;34m\u001b[0m\u001b[0m\n\u001b[1;32m     37\u001b[0m       \u001b[0;31m# 마스크된 이미지는 이미지파일이름+mask 파일로 save_path 경로에 저장\u001b[0m\u001b[0;34m\u001b[0m\u001b[0;34m\u001b[0m\u001b[0;34m\u001b[0m\u001b[0m\n\u001b[0;32m---> 38\u001b[0;31m       \u001b[0mcv2\u001b[0m\u001b[0;34m.\u001b[0m\u001b[0mimwrite\u001b[0m\u001b[0;34m(\u001b[0m\u001b[0;34m\"/content/drive/MyDrive/project_ai/masked/{}_mask.jpg\"\u001b[0m\u001b[0;34m.\u001b[0m\u001b[0mformat\u001b[0m\u001b[0;34m(\u001b[0m\u001b[0mfile\u001b[0m\u001b[0;34m)\u001b[0m\u001b[0;34m,\u001b[0m \u001b[0mfilled\u001b[0m\u001b[0;34m)\u001b[0m\u001b[0;34m\u001b[0m\u001b[0;34m\u001b[0m\u001b[0m\n\u001b[0m",
            "\u001b[0;31mKeyboardInterrupt\u001b[0m: "
          ]
        }
      ]
    },
    {
      "cell_type": "markdown",
      "source": [
        "리사이즈하기"
      ],
      "metadata": {
        "id": "3eTGHIqrsz9l"
      }
    },
    {
      "cell_type": "code",
      "source": [
        "resize_jpg(\"/content/drive/MyDrive/project_ai\", mask=False, w=500)"
      ],
      "metadata": {
        "id": "kKQ-aVyUs027"
      },
      "execution_count": null,
      "outputs": []
    },
    {
      "cell_type": "code",
      "source": [
        "resize_jpg(\"/content/drive/MyDrive/project_ai\", mask=True, w=500)"
      ],
      "metadata": {
        "id": "UksJP6ThFkpu"
      },
      "execution_count": null,
      "outputs": []
    },
    {
      "cell_type": "markdown",
      "source": [
        "# 사용할 데이터(이미지) 정리\n",
        "\n"
      ],
      "metadata": {
        "id": "7aCk8NXMD5RO"
      }
    },
    {
      "cell_type": "code",
      "source": [
        "## 라이브러리 불러오기\n",
        "import os\n",
        "import numpy as np\n",
        "from PIL import Image\n",
        "import matplotlib.pyplot as plt\n",
        "\n",
        "## 데이터 불러오기\n",
        "dir_data = '/content/drive/MyDrive/project_ai' \n",
        "\n",
        "# 원본 이미지 (리사이즈 된)\n",
        "path_dir_x = '/content/drive/MyDrive/project_ai/dataset/x/'\n",
        "file_list_x = os.listdir(path_dir_x)\n",
        "# 마스크 이미지 (리사이즈 된)\n",
        "path_dir_y = '/content/drive/MyDrive/project_ai/dataset/y/'\n",
        "file_list_y = os.listdir(path_dir_y)\n",
        "\n",
        "\n",
        "# 수정 필요함 \n",
        "for jpg in file_list_x:\n",
        "    img_input = Image.open(path_dir_x + jpg)\n",
        "for jpg in file_list_y:\n",
        "    img_label = Image.open(path_dir_y + jpg)\n",
        "\n",
        "\n",
        "# name_label = 'y/*.png'\n",
        "# name_input = 'x/*.png'\n",
        "\n",
        "# img_label = Image.open(os.path.join(dir_data, name_label))\n",
        "# img_input = Image.open(os.path.join(dir_data, name_input))\n",
        "\n",
        "# 이미지 사이즈 \n",
        "ny, nx = img_label.size\n",
        "# 이미지 갯수\n",
        "nframe = len(file_list_y)\n",
        "\n",
        "## train/test/val 폴더 생성 (8/1/1 비율로 생성 ㅋㅋ)\n",
        "nframe_train = nframe * 0.8\n",
        "nframe_val = nframe * 0.1\n",
        "nframe_test = nframe * 0.1\n",
        "\n",
        "## train/test/val 폴더 경로 지정해주기\n",
        "dir_save_train = os.path.join(dir_data, 'train')\n",
        "dir_save_val = os.path.join(dir_data, 'val')\n",
        "dir_save_test = os.path.join(dir_data, 'test')\n",
        "\n",
        "## 만약 폴더가 없으면 생성하기\n",
        "if not os.path.exists(dir_save_train):\n",
        "    os.makedirs(dir_save_train)\n",
        "\n",
        "if not os.path.exists(dir_save_val):\n",
        "    os.makedirs(dir_save_val)\n",
        "\n",
        "if not os.path.exists(dir_save_test):\n",
        "    os.makedirs(dir_save_test)\n",
        "\n",
        "## 전체 이미지를 랜덤으로 섞어줌\n",
        "id_frame = np.arange(nframe)\n",
        "np.random.shuffle(id_frame)"
      ],
      "metadata": {
        "id": "6jUSWzCVCpYg"
      },
      "execution_count": null,
      "outputs": []
    },
    {
      "cell_type": "code",
      "source": [
        "## 선택된 train 이미지를 npy 파일로 저장\n",
        "offset_nframe = 0\n",
        "\n",
        "for i in range(nframe_train):\n",
        "  jpg_x = file_list_x[id_frame[i + offset_nframe]]\n",
        "  img_input = Image.open(path_dir_x + jpg_x)\n",
        "  input_ = np.asarray(img_input)\n",
        "  jpg_x = jpg_x.split('.')[0]   # .jpg를 지우기 위해서\n",
        "  np.save(os.path.join(dir_save_train, 'input_%05d.npy' % i), input_)\n",
        "  \n",
        "  jpg_y = file_list_y[id_frame[i + offset_nframe]]\n",
        "  img_label = Image.open(path_dir_y + jpg_y)\n",
        "  label_ = np.asarray(img_label)\n",
        "  jpg_y = jpg_y.split('.')[0]   # .jpg를 지우기 위해서\n",
        "  np.save(os.path.join(dir_save_train, 'label_%05d.npy' % i), label_)"
      ],
      "metadata": {
        "id": "RhqEK9R7CrmO"
      },
      "execution_count": null,
      "outputs": []
    },
    {
      "cell_type": "code",
      "source": [
        "## 선택된 val 이미지를 npy 파일로 저장\n",
        "offset_nframe = nframe_train\n",
        "\n",
        "for i in range(nframe_val):\n",
        "  jpg_x = file_list_x[id_frame[i + offset_nframe]]\n",
        "  img_input = Image.open(path_dir_x + jpg_x)\n",
        "  input_ = np.asarray(img_input)\n",
        "  jpg_x = jpg_x.split('.')[0]\n",
        "  np.save(os.path.join(dir_save_val, 'input_%05d.npy' % i), input_)\n",
        "  \n",
        "  jpg_y = file_list_y[id_frame[i + offset_nframe]]\n",
        "  img_label = Image.open(path_dir_y + jpg_y)\n",
        "  label_ = np.asarray(img_label)\n",
        "  jpg_y = jpg_y.split('.')[0]\n",
        "  np.save(os.path.join(dir_save_val, 'label_%05d.npy' % i), label_)"
      ],
      "metadata": {
        "id": "c8hl0TzwCtVr"
      },
      "execution_count": null,
      "outputs": []
    },
    {
      "cell_type": "code",
      "source": [
        "## 선택된 val 이미지를 npy 파일로 저장\n",
        "offset_nframe = nframe_train\n",
        "\n",
        "for i in range(nframe_val):\n",
        "  jpg_x = file_list_x[id_frame[i + offset_nframe]]\n",
        "  img_input = Image.open(path_dir_x + jpg_x)\n",
        "  input_ = np.asarray(img_input)\n",
        "  jpg_x = jpg_x.split('.')[0]\n",
        "  np.save(os.path.join(dir_save_val, 'input_%05d.npy' % i), input_)\n",
        "  \n",
        "  jpg_y = file_list_y[id_frame[i + offset_nframe]]\n",
        "  img_label = Image.open(path_dir_y + jpg_y)\n",
        "  label_ = np.asarray(img_label)\n",
        "  jpg_y = jpg_y.split('.')[0]\n",
        "  np.save(os.path.join(dir_save_val, 'label_%05d.npy' % i), label_)"
      ],
      "metadata": {
        "id": "RcPPa-YNCuoP"
      },
      "execution_count": null,
      "outputs": []
    },
    {
      "cell_type": "code",
      "source": [
        "## 이미지 시각화\n",
        "\n",
        "plt.subplot(122)\n",
        "plt.imshow(label_, cmap='gray')\n",
        "plt.title('label')\n",
        "\n",
        "plt.subplot(121)\n",
        "plt.imshow(input_, cmap='gray')\n",
        "plt.title('input')\n",
        "\n",
        "plt.show()"
      ],
      "metadata": {
        "id": "4YW6YnU7CvuB"
      },
      "execution_count": null,
      "outputs": []
    },
    {
      "cell_type": "code",
      "source": [
        "## 한 이미지의 분포\n",
        "\n",
        "plt.subplot(122)\n",
        "plt.hist(label_.flatten(), bins=20)\n",
        "plt.title('label')\n",
        "\n",
        "plt.subplot(121)\n",
        "plt.hist(input_.flatten(), bins=20)\n",
        "plt.title('input')\n",
        "\n",
        "plt.tight_layout()\n",
        "plt.show()"
      ],
      "metadata": {
        "id": "J7Top26MCxHk"
      },
      "execution_count": null,
      "outputs": []
    },
    {
      "cell_type": "markdown",
      "source": [
        "# U-Net 네트워크 구축\n"
      ],
      "metadata": {
        "id": "zVoMpRUkENYd"
      }
    },
    {
      "cell_type": "code",
      "source": [
        "## 라이브러리 불러오기\n",
        "import os\n",
        "import numpy as np\n",
        "\n",
        "import torch\n",
        "import torch.nn as nn\n",
        "from torch.utils.data import DataLoader\n",
        "from torch.utils.tensorboard import SummaryWriter\n",
        "\n",
        "import matplotlib.pyplot as plt\n",
        "\n",
        "from torchvision import transforms, datasets"
      ],
      "metadata": {
        "id": "fo12bGtx1g0A"
      },
      "execution_count": null,
      "outputs": []
    },
    {
      "cell_type": "code",
      "source": [
        "## 네트워크 구축하기\n",
        "class UNet(nn.Module):\n",
        "    def __init__(self):\n",
        "        super(UNet, self).__init__()\n",
        "\n",
        "        # Convolution + BatchNormalization + Relu 정의하기\n",
        "        def CBR2d(in_channels, out_channels, kernel_size=3, stride=1, padding=1, bias=True): \n",
        "            layers = []\n",
        "            layers += [nn.Conv2d(in_channels=in_channels, out_channels=out_channels,\n",
        "                                 kernel_size=kernel_size, stride=stride, padding=padding,\n",
        "                                 bias=bias)]\n",
        "            layers += [nn.BatchNorm2d(num_features=out_channels)]\n",
        "            layers += [nn.ReLU()]\n",
        "\n",
        "            cbr = nn.Sequential(*layers)\n",
        "\n",
        "            return cbr\n",
        "\n",
        "        # 수축 경로(Contracting path)\n",
        "        self.enc1_1 = CBR2d(in_channels=1, out_channels=64)\n",
        "        self.enc1_2 = CBR2d(in_channels=64, out_channels=64)\n",
        "\n",
        "        self.pool1 = nn.MaxPool2d(kernel_size=2)\n",
        "\n",
        "        self.enc2_1 = CBR2d(in_channels=64, out_channels=128)\n",
        "        self.enc2_2 = CBR2d(in_channels=128, out_channels=128)\n",
        "\n",
        "        self.pool2 = nn.MaxPool2d(kernel_size=2)\n",
        "\n",
        "        self.enc3_1 = CBR2d(in_channels=128, out_channels=256)\n",
        "        self.enc3_2 = CBR2d(in_channels=256, out_channels=256)\n",
        "\n",
        "        self.pool3 = nn.MaxPool2d(kernel_size=2)\n",
        "\n",
        "        self.enc4_1 = CBR2d(in_channels=256, out_channels=512)\n",
        "        self.enc4_2 = CBR2d(in_channels=512, out_channels=512)\n",
        "\n",
        "        self.pool4 = nn.MaxPool2d(kernel_size=2)\n",
        "\n",
        "        self.enc5_1 = CBR2d(in_channels=512, out_channels=1024)\n",
        "\n",
        "        # 확장 경로(Expansive path)\n",
        "        self.dec5_1 = CBR2d(in_channels=1024, out_channels=512)\n",
        "\n",
        "        self.unpool4 = nn.ConvTranspose2d(in_channels=512, out_channels=512,\n",
        "                                          kernel_size=2, stride=2, padding=0, bias=True)\n",
        "\n",
        "        self.dec4_2 = CBR2d(in_channels=2 * 512, out_channels=512)\n",
        "        self.dec4_1 = CBR2d(in_channels=512, out_channels=256)\n",
        "\n",
        "        self.unpool3 = nn.ConvTranspose2d(in_channels=256, out_channels=256,\n",
        "                                          kernel_size=2, stride=2, padding=0, bias=True)\n",
        "\n",
        "        self.dec3_2 = CBR2d(in_channels=2 * 256, out_channels=256)\n",
        "        self.dec3_1 = CBR2d(in_channels=256, out_channels=128)\n",
        "\n",
        "        self.unpool2 = nn.ConvTranspose2d(in_channels=128, out_channels=128,\n",
        "                                          kernel_size=2, stride=2, padding=0, bias=True)\n",
        "\n",
        "        self.dec2_2 = CBR2d(in_channels=2 * 128, out_channels=128)\n",
        "        self.dec2_1 = CBR2d(in_channels=128, out_channels=64)\n",
        "\n",
        "        self.unpool1 = nn.ConvTranspose2d(in_channels=64, out_channels=64,\n",
        "                                          kernel_size=2, stride=2, padding=0, bias=True)\n",
        "\n",
        "        self.dec1_2 = CBR2d(in_channels=2 * 64, out_channels=64)\n",
        "        self.dec1_1 = CBR2d(in_channels=64, out_channels=64)\n",
        "\n",
        "        self.fc = nn.Conv2d(in_channels=64, out_channels=1, kernel_size=1, stride=1, padding=0, bias=True)\n",
        "    \n",
        "    # forward 함수 정의하기\n",
        "    def forward(self, x):\n",
        "        enc1_1 = self.enc1_1(x)\n",
        "        enc1_2 = self.enc1_2(enc1_1)\n",
        "        pool1 = self.pool1(enc1_2)\n",
        "\n",
        "        enc2_1 = self.enc2_1(pool1)\n",
        "        enc2_2 = self.enc2_2(enc2_1)\n",
        "        pool2 = self.pool2(enc2_2)\n",
        "\n",
        "        enc3_1 = self.enc3_1(pool2)\n",
        "        enc3_2 = self.enc3_2(enc3_1)\n",
        "        pool3 = self.pool3(enc3_2)\n",
        "\n",
        "        enc4_1 = self.enc4_1(pool3)\n",
        "        enc4_2 = self.enc4_2(enc4_1)\n",
        "        pool4 = self.pool4(enc4_2)\n",
        "\n",
        "        enc5_1 = self.enc5_1(pool4)\n",
        "\n",
        "        dec5_1 = self.dec5_1(enc5_1)\n",
        "\n",
        "        unpool4 = self.unpool4(dec5_1)\n",
        "        cat4 = torch.cat((unpool4, enc4_2), dim=1)\n",
        "        dec4_2 = self.dec4_2(cat4)\n",
        "        dec4_1 = self.dec4_1(dec4_2)\n",
        "\n",
        "        unpool3 = self.unpool3(dec4_1)\n",
        "        cat3 = torch.cat((unpool3, enc3_2), dim=1)\n",
        "        dec3_2 = self.dec3_2(cat3)\n",
        "        dec3_1 = self.dec3_1(dec3_2)\n",
        "\n",
        "        unpool2 = self.unpool2(dec3_1)\n",
        "        cat2 = torch.cat((unpool2, enc2_2), dim=1)\n",
        "        dec2_2 = self.dec2_2(cat2)\n",
        "        dec2_1 = self.dec2_1(dec2_2)\n",
        "\n",
        "        unpool1 = self.unpool1(dec2_1)\n",
        "        cat1 = torch.cat((unpool1, enc1_2), dim=1)\n",
        "        dec1_2 = self.dec1_2(cat1)\n",
        "        dec1_1 = self.dec1_1(dec1_2)\n",
        "\n",
        "        x = self.fc(dec1_1)\n",
        "\n",
        "        return x"
      ],
      "metadata": {
        "id": "wOlJisWvCyeo"
      },
      "execution_count": null,
      "outputs": []
    },
    {
      "cell_type": "markdown",
      "source": [
        "# DataLoader"
      ],
      "metadata": {
        "id": "b_X_NNorEe68"
      }
    },
    {
      "cell_type": "code",
      "source": [
        "# 데이터 로더를 구현하기\n",
        "class Dataset(torch.utils.data.Dataset):\n",
        "    def __init__(self, data_dir, transform=None):\n",
        "        self.data_dir = data_dir\n",
        "        self.transform = transform\n",
        "\n",
        "        lst_data = os.listdir(self.data_dir)\n",
        "\n",
        "        lst_label = [f for f in lst_data if f.startswith('label')]\n",
        "        lst_input = [f for f in lst_data if f.startswith('input')]\n",
        "\n",
        "        lst_label.sort()\n",
        "        lst_input.sort()\n",
        "\n",
        "        self.lst_label = lst_label\n",
        "        self.lst_input = lst_input\n",
        "\n",
        "    def __len__(self):\n",
        "        return len(self.lst_label)\n",
        "\n",
        "    def __getitem__(self, index):\n",
        "        label = np.load(os.path.join(self.data_dir, self.lst_label[index]))\n",
        "        input = np.load(os.path.join(self.data_dir, self.lst_input[index]))\n",
        "\n",
        "        # 정규화\n",
        "        label = label/255.0\n",
        "        input = input/255.0\n",
        "\n",
        "        # 이미지와 레이블의 차원 = 2일 경우(채널이 없을 경우, 흑백 이미지), 새로운 채널(축) 생성\n",
        "        if label.ndim == 2:\n",
        "            label = label[:, :, np.newaxis]\n",
        "            # label = np.repeat(label[:,:,np.newaxis],3,-1) # 세 번째 차원의 수가 3개 (컬러를 말함)\n",
        "        if input.ndim == 2:\n",
        "            input = input[:, :, np.newaxis]\n",
        "\n",
        "        data = {'input': input, 'label': label}\n",
        "\n",
        "        # transform이 정의되어 있다면 transform을 거친 데이터를 불러옴\n",
        "        if self.transform:\n",
        "            data = self.transform(data)\n",
        "\n",
        "        return data"
      ],
      "metadata": {
        "id": "adppUStIEisr"
      },
      "execution_count": null,
      "outputs": []
    },
    {
      "cell_type": "code",
      "source": [
        "## 데이터 Shape 확인해보기\n",
        "\n",
        "print(\"X 이미지 Shape : {}\".format(input_.shape))\n",
        "print(\"Y 이미지 Shape : {}\".format(label_.shape))"
      ],
      "metadata": {
        "id": "ScBS0OH5Emr7"
      },
      "execution_count": null,
      "outputs": []
    },
    {
      "cell_type": "code",
      "source": [
        "## 데이터로더 잘 구현되었는지 확인\n",
        "\n",
        "dataset_train = Dataset(data_dir=dir_save_train)\n",
        "data = dataset_train.__getitem__(0) # 한 이미지 불러오기\n",
        "input = data['input']\n",
        "label = data['label']"
      ],
      "metadata": {
        "id": "kk1QXXeJC638"
      },
      "execution_count": null,
      "outputs": []
    },
    {
      "cell_type": "code",
      "source": [
        "# 불러온 이미지 시각화\n",
        "\n",
        "plt.subplot(122)\n",
        "plt.imshow(label.reshape(754, 1508, 3), cmap='gray')\n",
        "plt.title('label')\n",
        "\n",
        "plt.subplot(121)\n",
        "plt.imshow(input.reshape(754, 1508, 3), cmap='gray')\n",
        "plt.title('input')\n",
        "\n",
        "plt.show()"
      ],
      "metadata": {
        "id": "Hfvf9ZZ-DAHx"
      },
      "execution_count": null,
      "outputs": []
    },
    {
      "cell_type": "markdown",
      "source": [
        "# Transform"
      ],
      "metadata": {
        "id": "6qM0_v5LE91Z"
      }
    },
    {
      "cell_type": "code",
      "source": [
        "# 트렌스폼 구현하기\n",
        "class ToTensor(object):\n",
        "    def __call__(self, data):\n",
        "        label, input = data['label'], data['input']\n",
        "\n",
        "        # 배열 순서 바꿈 픽셀컬러 정보를 맨 앞으로\n",
        "        label = label.transpose((2, 0, 1)).astype(np.float32)\n",
        "        input = input.transpose((2, 0, 1)).astype(np.float32)\n",
        "\n",
        "        data = {'label': torch.from_numpy(label), 'input': torch.from_numpy(input)}\n",
        "\n",
        "        return data\n",
        "\n",
        "## 정규화\n",
        "class Normalization(object):\n",
        "    def __init__(self, mean=0.5, std=0.5):\n",
        "        self.mean = mean\n",
        "        self.std = std\n",
        "\n",
        "    def __call__(self, data):\n",
        "        label, input = data['label'], data['input']\n",
        "\n",
        "        input = (input - self.mean) / self.std\n",
        "\n",
        "        data = {'label': label, 'input': input}\n",
        "\n",
        "        return data\n",
        "\n",
        "class RandomFlip(object):\n",
        "    def __call__(self, data):\n",
        "        label, input = data['label'], data['input']\n",
        "\n",
        "        if np.random.rand() > 0.5:\n",
        "            label = np.fliplr(label)\n",
        "            input = np.fliplr(input)\n",
        "\n",
        "        if np.random.rand() > 0.5:\n",
        "            label = np.flipud(label)\n",
        "            input = np.flipud(input)\n",
        "\n",
        "        data = {'label': label, 'input': input}\n",
        "\n",
        "        return data"
      ],
      "metadata": {
        "id": "18xWydEWE9MZ"
      },
      "execution_count": null,
      "outputs": []
    },
    {
      "cell_type": "code",
      "source": [
        "## 트랜스폼 잘 구현되었는지 확인\n",
        "transform = transforms.Compose([Normalization(mean=0.5, std=0.5), RandomFlip(), ToTensor()])\n",
        "dataset_train = Dataset(data_dir=dir_save_train, transform=transform)\n",
        "data = dataset_train.__getitem__(0) # 한 이미지 불러오기\n",
        "input = data['input']\n",
        "label = data['label']"
      ],
      "metadata": {
        "id": "KW18OXByDBR4"
      },
      "execution_count": null,
      "outputs": []
    },
    {
      "cell_type": "code",
      "source": [
        "## 불러온 이미지 시각화\n",
        "plt.subplot(122)\n",
        "plt.hist(label.flatten(), bins=20)\n",
        "plt.title('label')\n",
        "\n",
        "plt.subplot(121)\n",
        "plt.hist(input.flatten(), bins=20)\n",
        "plt.title('input')\n",
        "\n",
        "plt.tight_layout()\n",
        "plt.show()"
      ],
      "metadata": {
        "id": "TI41xsey2Nst"
      },
      "execution_count": null,
      "outputs": []
    },
    {
      "cell_type": "markdown",
      "source": [
        "# Network 저장 & 호출"
      ],
      "metadata": {
        "id": "02G0n8l0FH25"
      }
    },
    {
      "cell_type": "code",
      "source": [
        "## 네트워크 저장하기\n",
        "def save(ckpt_dir, net, optim, epoch):\n",
        "    if not os.path.exists(ckpt_dir):\n",
        "        os.makedirs(ckpt_dir)\n",
        "\n",
        "    torch.save({'net': net.state_dict(), 'optim': optim.state_dict()},\n",
        "               \"%s/model_epoch%d.pth\" % (ckpt_dir, epoch))"
      ],
      "metadata": {
        "id": "4dCdCyTcFK54"
      },
      "execution_count": null,
      "outputs": []
    },
    {
      "cell_type": "code",
      "source": [
        "## 네트워크 불러오기\n",
        "def load(ckpt_dir, net, optim):\n",
        "    if not os.path.exists(ckpt_dir):\n",
        "        epoch = 0\n",
        "        return net, optim, epoch\n",
        "\n",
        "    ckpt_lst = os.listdir(ckpt_dir)\n",
        "    ckpt_lst.sort(key=lambda f: int(''.join(filter(str.isdigit, f))))\n",
        "\n",
        "    dict_model = torch.load('%s/%s' % (ckpt_dir, ckpt_lst[-1]))\n",
        "\n",
        "    net.load_state_dict(dict_model['net'])\n",
        "    optim.load_state_dict(dict_model['optim'])\n",
        "    epoch = int(ckpt_lst[-1].split('epoch')[1].split('.pth')[0])\n",
        "\n",
        "    return net, optim, epoch"
      ],
      "metadata": {
        "id": "YsUJEuHMFN3w"
      },
      "execution_count": null,
      "outputs": []
    },
    {
      "cell_type": "markdown",
      "source": [
        "# Network 훈련"
      ],
      "metadata": {
        "id": "JnhoPQtXFPmB"
      }
    },
    {
      "cell_type": "code",
      "source": [
        "# 훈련 파라미터 설정하기\n",
        "lr = 1e-3\n",
        "batch_size = 4\n",
        "num_epoch = 20\n",
        "\n",
        "base_dir = './drive/MyDrive/DACrew/unet'\n",
        "data_dir = dir_data\n",
        "ckpt_dir = os.path.join(base_dir, \"checkpoint\")\n",
        "log_dir = os.path.join(base_dir, \"log\")\n",
        "\n",
        "\n",
        "# 훈련을 위한 Transform과 DataLoader\n",
        "transform = transforms.Compose([Normalization(mean=0.5, std=0.5), RandomFlip(), ToTensor()])\n",
        "\n",
        "dataset_train = Dataset(data_dir=os.path.join(data_dir, 'train'), transform=transform)\n",
        "loader_train = DataLoader(dataset_train, batch_size=batch_size, shuffle=True, num_workers=8)\n",
        "\n",
        "dataset_val = Dataset(data_dir=os.path.join(data_dir, 'val'), transform=transform)\n",
        "loader_val = DataLoader(dataset_val, batch_size=batch_size, shuffle=False, num_workers=8)\n",
        "\n",
        "# 네트워크 생성하기\n",
        "device = torch.device('cuda' if torch.cuda.is_available() else 'cpu')\n",
        "net = UNet().to(device)\n",
        "\n",
        "# 손실함수 정의하기\n",
        "fn_loss = nn.BCEWithLogitsLoss().to(device)\n",
        "\n",
        "# Optimizer 설정하기\n",
        "optim = torch.optim.Adam(net.parameters(), lr=lr)\n",
        "\n",
        "# 그밖에 부수적인 variables 설정하기\n",
        "num_data_train = len(dataset_train)\n",
        "num_data_val = len(dataset_val)\n",
        "\n",
        "num_batch_train = np.ceil(num_data_train / batch_size)\n",
        "num_batch_val = np.ceil(num_data_val / batch_size)\n",
        "\n",
        "# 그 밖에 부수적인 functions 설정하기\n",
        "fn_tonumpy = lambda x: x.to('cpu').detach().numpy().transpose(0, 2, 3, 1)\n",
        "fn_denorm = lambda x, mean, std: (x * std) + mean\n",
        "fn_class = lambda x: 1.0 * (x > 0.5)\n",
        "\n",
        "# Tensorboard 를 사용하기 위한 SummaryWriter 설정\n",
        "writer_train = SummaryWriter(log_dir=os.path.join(log_dir, 'train'))\n",
        "writer_val = SummaryWriter(log_dir=os.path.join(log_dir, 'val'))\n",
        "\n",
        "# 네트워크 학습시키기\n",
        "st_epoch = 0\n",
        "\n",
        "# 학습한 모델이 있을 경우 모델 로드하기\n",
        "net, optim, st_epoch = load(ckpt_dir=ckpt_dir, net=net, optim=optim) \n",
        "\n",
        "for epoch in range(st_epoch + 1, num_epoch + 1):\n",
        "        net.train()\n",
        "        loss_arr = []\n",
        "\n",
        "        for batch, data in enumerate(loader_train, 1):\n",
        "            # forward pass\n",
        "            label = data['label'].to(device)\n",
        "            input = data['input'].to(device)\n",
        "\n",
        "            output = net(input)\n",
        "\n",
        "            # backward pass\n",
        "            optim.zero_grad()\n",
        "\n",
        "            loss = fn_loss(output, label)\n",
        "            loss.backward()\n",
        "\n",
        "            optim.step()\n",
        "\n",
        "            # 손실함수 계산\n",
        "            loss_arr += [loss.item()]\n",
        "\n",
        "            print(\"TRAIN: EPOCH %04d / %04d | BATCH %04d / %04d | LOSS %.4f\" %\n",
        "                  (epoch, num_epoch, batch, num_batch_train, np.mean(loss_arr)))\n",
        "\n",
        "            # Tensorboard 저장하기\n",
        "            label = fn_tonumpy(label)\n",
        "            input = fn_tonumpy(fn_denorm(input, mean=0.5, std=0.5))\n",
        "            output = fn_tonumpy(fn_class(output))\n",
        "\n",
        "            writer_train.add_image('label', label, num_batch_train * (epoch - 1) + batch, dataformats='NHWC')\n",
        "            writer_train.add_image('input', input, num_batch_train * (epoch - 1) + batch, dataformats='NHWC')\n",
        "            writer_train.add_image('output', output, num_batch_train * (epoch - 1) + batch, dataformats='NHWC')\n",
        "\n",
        "        writer_train.add_scalar('loss', np.mean(loss_arr), epoch)\n",
        "\n",
        "        with torch.no_grad():\n",
        "            net.eval()\n",
        "            loss_arr = []\n",
        "\n",
        "            for batch, data in enumerate(loader_val, 1):\n",
        "                # forward pass\n",
        "                label = data['label'].to(device)\n",
        "                input = data['input'].to(device)\n",
        "\n",
        "                output = net(input)\n",
        "\n",
        "                # 손실함수 계산하기\n",
        "                loss = fn_loss(output, label)\n",
        "\n",
        "                loss_arr += [loss.item()]\n",
        "\n",
        "                print(\"VALID: EPOCH %04d / %04d | BATCH %04d / %04d | LOSS %.4f\" %\n",
        "                      (epoch, num_epoch, batch, num_batch_val, np.mean(loss_arr)))\n",
        "\n",
        "                # Tensorboard 저장하기\n",
        "                label = fn_tonumpy(label)\n",
        "                input = fn_tonumpy(fn_denorm(input, mean=0.5, std=0.5))\n",
        "                output = fn_tonumpy(fn_class(output))\n",
        "\n",
        "                writer_val.add_image('label', label, num_batch_val * (epoch - 1) + batch, dataformats='NHWC')\n",
        "                writer_val.add_image('input', input, num_batch_val * (epoch - 1) + batch, dataformats='NHWC')\n",
        "                writer_val.add_image('output', output, num_batch_val * (epoch - 1) + batch, dataformats='NHWC')\n",
        "\n",
        "        writer_val.add_scalar('loss', np.mean(loss_arr), epoch)\n",
        "\n",
        "        # epoch 50마다 모델 저장하기\n",
        "        if epoch % 50 == 0:\n",
        "            save(ckpt_dir=ckpt_dir, net=net, optim=optim, epoch=epoch)\n",
        "\n",
        "        writer_train.close()\n",
        "        writer_val.close()"
      ],
      "metadata": {
        "id": "w0pq6bReDDnM"
      },
      "execution_count": null,
      "outputs": []
    },
    {
      "cell_type": "markdown",
      "source": [
        "# Model Test"
      ],
      "metadata": {
        "id": "Tuvqp8wJFboI"
      }
    },
    {
      "cell_type": "code",
      "source": [
        "transform = transforms.Compose([Normalization(mean=0.5, std=0.5), ToTensor()])\n",
        "\n",
        "dataset_test = Dataset(data_dir=os.path.join(data_dir, 'test'), transform=transform)\n",
        "loader_test = DataLoader(dataset_test, batch_size=batch_size, shuffle=False, num_workers=8)\n",
        "\n",
        "# 그밖에 부수적인 variables 설정하기\n",
        "num_data_test = len(dataset_test)\n",
        "num_batch_test = np.ceil(num_data_test / batch_size)\n",
        "\n",
        "# 결과 디렉토리 생성하기\n",
        "result_dir = os.path.join(base_dir, 'result')\n",
        "if not os.path.exists(result_dir):\n",
        "    os.makedirs(os.path.join(result_dir, 'png'))\n",
        "    os.makedirs(os.path.join(result_dir, 'numpy'))\n",
        "\n",
        "\n",
        "net, optim, st_epoch = load(ckpt_dir=ckpt_dir, net=net, optim=optim)\n",
        "\n",
        "with torch.no_grad():\n",
        "      net.eval()\n",
        "      loss_arr = []\n",
        "\n",
        "      for batch, data in enumerate(loader_test, 1):\n",
        "          # forward pass\n",
        "          label = data['label'].to(device)\n",
        "          input = data['input'].to(device)\n",
        "\n",
        "          output = net(input)\n",
        "\n",
        "          # 손실함수 계산하기\n",
        "          loss = fn_loss(output, label)\n",
        "\n",
        "          loss_arr += [loss.item()]\n",
        "\n",
        "          print(\"TEST: BATCH %04d / %04d | LOSS %.4f\" %\n",
        "                (batch, num_batch_test, np.mean(loss_arr)))\n",
        "\n",
        "          # Tensorboard 저장하기\n",
        "          label = fn_tonumpy(label)\n",
        "          input = fn_tonumpy(fn_denorm(input, mean=0.5, std=0.5))\n",
        "          output = fn_tonumpy(fn_class(output))\n",
        "\n",
        "          # 테스트 결과 저장하기\n",
        "          for j in range(label.shape[0]):\n",
        "              id = num_batch_test * (batch - 1) + j\n",
        "\n",
        "              plt.imsave(os.path.join(result_dir, 'png', 'label_%04d.png' % id), label[j].squeeze(), cmap='gray')\n",
        "              plt.imsave(os.path.join(result_dir, 'png', 'input_%04d.png' % id), input[j].squeeze(), cmap='gray')\n",
        "              plt.imsave(os.path.join(result_dir, 'png', 'output_%04d.png' % id), output[j].squeeze(), cmap='gray')\n",
        "\n",
        "              np.save(os.path.join(result_dir, 'numpy', 'label_%04d.npy' % id), label[j].squeeze())\n",
        "              np.save(os.path.join(result_dir, 'numpy', 'input_%04d.npy' % id), input[j].squeeze())\n",
        "              np.save(os.path.join(result_dir, 'numpy', 'output_%04d.npy' % id), output[j].squeeze())\n",
        "\n",
        "print(\"AVERAGE TEST: BATCH %04d / %04d | LOSS %.4f\" %\n",
        "        (batch, num_batch_test, np.mean(loss_arr)))"
      ],
      "metadata": {
        "id": "iKqOirjjFeww"
      },
      "execution_count": null,
      "outputs": []
    },
    {
      "cell_type": "markdown",
      "source": [
        "# Result Visualization"
      ],
      "metadata": {
        "id": "nYAWbTidFfOo"
      }
    },
    {
      "cell_type": "code",
      "source": [
        "##\n",
        "lst_data = os.listdir(os.path.join(result_dir, 'numpy'))\n",
        "\n",
        "lst_label = [f for f in lst_data if f.startswith('label')]\n",
        "lst_input = [f for f in lst_data if f.startswith('input')]\n",
        "lst_output = [f for f in lst_data if f.startswith('output')]\n",
        "\n",
        "lst_label.sort()\n",
        "lst_input.sort()\n",
        "lst_output.sort()\n",
        "\n",
        "##\n",
        "id = 0\n",
        "\n",
        "label = np.load(os.path.join(result_dir,\"numpy\", lst_label[id]))\n",
        "input = np.load(os.path.join(result_dir,\"numpy\", lst_input[id]))\n",
        "output = np.load(os.path.join(result_dir,\"numpy\", lst_output[id]))\n",
        "\n",
        "## 플롯 그리기\n",
        "plt.figure(figsize=(8,6))\n",
        "plt.subplot(131)\n",
        "plt.imshow(input, cmap='gray')\n",
        "plt.title('input')\n",
        "\n",
        "plt.subplot(132)\n",
        "plt.imshow(label, cmap='gray')\n",
        "plt.title('label')\n",
        "\n",
        "plt.subplot(133)\n",
        "plt.imshow(output, cmap='gray')\n",
        "plt.title('output')\n",
        "\n",
        "plt.show()"
      ],
      "metadata": {
        "id": "7QUNtnWwFtGu"
      },
      "execution_count": null,
      "outputs": []
    }
  ]
}